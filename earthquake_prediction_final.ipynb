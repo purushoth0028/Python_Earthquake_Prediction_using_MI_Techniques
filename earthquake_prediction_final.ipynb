{
  "nbformat": 4,
  "nbformat_minor": 0,
  "metadata": {
    "colab": {
      "name": "earthquake_prediction.ipynb",
      "provenance": [],
      "collapsed_sections": []
    },
    "kernelspec": {
      "name": "python3",
      "display_name": "Python 3"
    },
    "language_info": {
      "name": "python"
    }
  },
  "cells": [
    {
      "cell_type": "code",
      "execution_count": null,
      "metadata": {
        "id": "vEb29fAxjQa2"
      },
      "outputs": [],
      "source": [
        "import pandas as pd\n",
        "import numpy as np\n",
        "import matplotlib.pyplot as plt\n",
        "from sklearn.model_selection import train_test_split\n",
        "from sklearn.linear_model import LinearRegression\n",
        "from sklearn.metrics import r2_score\n",
        "from sklearn.model_selection import train_test_split\n",
        "from sklearn.tree import DecisionTreeClassifier\n",
        "from sklearn import tree\n",
        "\n"
      ]
    },
    {
      "cell_type": "code",
      "source": [
        "data = pd.read_csv(\"Earthquake_detect.csv\")"
      ],
      "metadata": {
        "id": "RQCHAluEcQ2S"
      },
      "execution_count": null,
      "outputs": []
    },
    {
      "cell_type": "code",
      "source": [
        "data.columns"
      ],
      "metadata": {
        "colab": {
          "base_uri": "https://localhost:8080/"
        },
        "id": "v06YNt3rcUq4",
        "outputId": "db9e8bde-6a40-491a-c6c5-439bf9300de5"
      },
      "execution_count": null,
      "outputs": [
        {
          "output_type": "execute_result",
          "data": {
            "text/plain": [
              "Index(['time', 'latitude', 'longitude', 'depth', 'mag', 'magType', 'nst',\n",
              "       'gap', 'dmin', 'rms', 'net', 'id', 'updated', 'place', 'type',\n",
              "       'horizontalError', 'depthError', 'magError', 'magNst', 'status',\n",
              "       'locationSource', 'magSource'],\n",
              "      dtype='object')"
            ]
          },
          "metadata": {},
          "execution_count": 53
        }
      ]
    },
    {
      "cell_type": "code",
      "source": [
        "# preprocessing for all columns\n",
        "data = data.fillna(method = 'ffill')"
      ],
      "metadata": {
        "id": "_a4d_ZzOcXBR"
      },
      "execution_count": null,
      "outputs": []
    },
    {
      "cell_type": "code",
      "source": [
        "data.to_csv('result.csv',index=False)"
      ],
      "metadata": {
        "id": "lzEWiJWvcZVp"
      },
      "execution_count": null,
      "outputs": []
    },
    {
      "cell_type": "code",
      "source": [
        "data = pd.read_csv(\"earthquake.csv\")"
      ],
      "metadata": {
        "id": "bStSiVwcs6Jh"
      },
      "execution_count": null,
      "outputs": []
    },
    {
      "cell_type": "code",
      "source": [
        "data.shape"
      ],
      "metadata": {
        "colab": {
          "base_uri": "https://localhost:8080/"
        },
        "id": "IWCzgDZevE3p",
        "outputId": "bb698a9c-3f9f-4515-b721-221d5a4b3c2c"
      },
      "execution_count": null,
      "outputs": [
        {
          "output_type": "execute_result",
          "data": {
            "text/plain": [
              "(8847, 26)"
            ]
          },
          "metadata": {},
          "execution_count": 57
        }
      ]
    },
    {
      "cell_type": "code",
      "source": [
        "# data1 = data[['latitude', 'longitude', 'depth', 'mag','typenum','horizontalError','depthError','magError','magNst','statusnum','locationnum','magSourcenum']] #two class lables.\n",
        "data1 = data[['latitude', 'longitude', 'depth', 'mag','nst','gap','dmin','rms','typenum','horizontalError','depthError','magError','magNst','statusnum','locationnum']] #one class label.\n",
        "data2 = data['type']\n",
        "data1.head()\n",
        "#data2.head()"
      ],
      "metadata": {
        "colab": {
          "base_uri": "https://localhost:8080/",
          "height": 250
        },
        "id": "3PUyE6BJ0Jd9",
        "outputId": "01848c23-e7b8-463d-c4d3-897684bc8b2e"
      },
      "execution_count": null,
      "outputs": [
        {
          "output_type": "execute_result",
          "data": {
            "text/plain": [
              "    latitude   longitude   depth   mag  nst    gap     dmin   rms  typenum  \\\n",
              "0   7.051500  126.521800  184.24  4.40    4  125.0  0.93500  1.00        0   \n",
              "1  18.011000  -67.065667    4.81  2.05    4  137.0  0.02308  0.07        0   \n",
              "2  57.083100 -135.688300    1.70  1.80   22   95.0  0.02308  0.81        0   \n",
              "3  61.661400 -150.051000   34.50  1.40   22   95.0  0.02308  0.73        0   \n",
              "4  34.266667 -118.500167   12.78  1.54   22   95.0  0.02308  0.11        0   \n",
              "\n",
              "   horizontalError  depthError  magError  magNst  statusnum  locationnum  \n",
              "0            10.90        6.80  0.130000      19          1           12  \n",
              "1             1.57        1.75  0.041713       3          1            9  \n",
              "2             0.26        0.30  0.211000      18          0            0  \n",
              "3             0.26        0.20  0.211000      18          0            0  \n",
              "4             0.26        0.41  0.211000      18          1            2  "
            ],
            "text/html": [
              "\n",
              "  <div id=\"df-64e737f0-f4ca-444b-a44d-53cf5c8abb1e\">\n",
              "    <div class=\"colab-df-container\">\n",
              "      <div>\n",
              "<style scoped>\n",
              "    .dataframe tbody tr th:only-of-type {\n",
              "        vertical-align: middle;\n",
              "    }\n",
              "\n",
              "    .dataframe tbody tr th {\n",
              "        vertical-align: top;\n",
              "    }\n",
              "\n",
              "    .dataframe thead th {\n",
              "        text-align: right;\n",
              "    }\n",
              "</style>\n",
              "<table border=\"1\" class=\"dataframe\">\n",
              "  <thead>\n",
              "    <tr style=\"text-align: right;\">\n",
              "      <th></th>\n",
              "      <th>latitude</th>\n",
              "      <th>longitude</th>\n",
              "      <th>depth</th>\n",
              "      <th>mag</th>\n",
              "      <th>nst</th>\n",
              "      <th>gap</th>\n",
              "      <th>dmin</th>\n",
              "      <th>rms</th>\n",
              "      <th>typenum</th>\n",
              "      <th>horizontalError</th>\n",
              "      <th>depthError</th>\n",
              "      <th>magError</th>\n",
              "      <th>magNst</th>\n",
              "      <th>statusnum</th>\n",
              "      <th>locationnum</th>\n",
              "    </tr>\n",
              "  </thead>\n",
              "  <tbody>\n",
              "    <tr>\n",
              "      <th>0</th>\n",
              "      <td>7.051500</td>\n",
              "      <td>126.521800</td>\n",
              "      <td>184.24</td>\n",
              "      <td>4.40</td>\n",
              "      <td>4</td>\n",
              "      <td>125.0</td>\n",
              "      <td>0.93500</td>\n",
              "      <td>1.00</td>\n",
              "      <td>0</td>\n",
              "      <td>10.90</td>\n",
              "      <td>6.80</td>\n",
              "      <td>0.130000</td>\n",
              "      <td>19</td>\n",
              "      <td>1</td>\n",
              "      <td>12</td>\n",
              "    </tr>\n",
              "    <tr>\n",
              "      <th>1</th>\n",
              "      <td>18.011000</td>\n",
              "      <td>-67.065667</td>\n",
              "      <td>4.81</td>\n",
              "      <td>2.05</td>\n",
              "      <td>4</td>\n",
              "      <td>137.0</td>\n",
              "      <td>0.02308</td>\n",
              "      <td>0.07</td>\n",
              "      <td>0</td>\n",
              "      <td>1.57</td>\n",
              "      <td>1.75</td>\n",
              "      <td>0.041713</td>\n",
              "      <td>3</td>\n",
              "      <td>1</td>\n",
              "      <td>9</td>\n",
              "    </tr>\n",
              "    <tr>\n",
              "      <th>2</th>\n",
              "      <td>57.083100</td>\n",
              "      <td>-135.688300</td>\n",
              "      <td>1.70</td>\n",
              "      <td>1.80</td>\n",
              "      <td>22</td>\n",
              "      <td>95.0</td>\n",
              "      <td>0.02308</td>\n",
              "      <td>0.81</td>\n",
              "      <td>0</td>\n",
              "      <td>0.26</td>\n",
              "      <td>0.30</td>\n",
              "      <td>0.211000</td>\n",
              "      <td>18</td>\n",
              "      <td>0</td>\n",
              "      <td>0</td>\n",
              "    </tr>\n",
              "    <tr>\n",
              "      <th>3</th>\n",
              "      <td>61.661400</td>\n",
              "      <td>-150.051000</td>\n",
              "      <td>34.50</td>\n",
              "      <td>1.40</td>\n",
              "      <td>22</td>\n",
              "      <td>95.0</td>\n",
              "      <td>0.02308</td>\n",
              "      <td>0.73</td>\n",
              "      <td>0</td>\n",
              "      <td>0.26</td>\n",
              "      <td>0.20</td>\n",
              "      <td>0.211000</td>\n",
              "      <td>18</td>\n",
              "      <td>0</td>\n",
              "      <td>0</td>\n",
              "    </tr>\n",
              "    <tr>\n",
              "      <th>4</th>\n",
              "      <td>34.266667</td>\n",
              "      <td>-118.500167</td>\n",
              "      <td>12.78</td>\n",
              "      <td>1.54</td>\n",
              "      <td>22</td>\n",
              "      <td>95.0</td>\n",
              "      <td>0.02308</td>\n",
              "      <td>0.11</td>\n",
              "      <td>0</td>\n",
              "      <td>0.26</td>\n",
              "      <td>0.41</td>\n",
              "      <td>0.211000</td>\n",
              "      <td>18</td>\n",
              "      <td>1</td>\n",
              "      <td>2</td>\n",
              "    </tr>\n",
              "  </tbody>\n",
              "</table>\n",
              "</div>\n",
              "      <button class=\"colab-df-convert\" onclick=\"convertToInteractive('df-64e737f0-f4ca-444b-a44d-53cf5c8abb1e')\"\n",
              "              title=\"Convert this dataframe to an interactive table.\"\n",
              "              style=\"display:none;\">\n",
              "        \n",
              "  <svg xmlns=\"http://www.w3.org/2000/svg\" height=\"24px\"viewBox=\"0 0 24 24\"\n",
              "       width=\"24px\">\n",
              "    <path d=\"M0 0h24v24H0V0z\" fill=\"none\"/>\n",
              "    <path d=\"M18.56 5.44l.94 2.06.94-2.06 2.06-.94-2.06-.94-.94-2.06-.94 2.06-2.06.94zm-11 1L8.5 8.5l.94-2.06 2.06-.94-2.06-.94L8.5 2.5l-.94 2.06-2.06.94zm10 10l.94 2.06.94-2.06 2.06-.94-2.06-.94-.94-2.06-.94 2.06-2.06.94z\"/><path d=\"M17.41 7.96l-1.37-1.37c-.4-.4-.92-.59-1.43-.59-.52 0-1.04.2-1.43.59L10.3 9.45l-7.72 7.72c-.78.78-.78 2.05 0 2.83L4 21.41c.39.39.9.59 1.41.59.51 0 1.02-.2 1.41-.59l7.78-7.78 2.81-2.81c.8-.78.8-2.07 0-2.86zM5.41 20L4 18.59l7.72-7.72 1.47 1.35L5.41 20z\"/>\n",
              "  </svg>\n",
              "      </button>\n",
              "      \n",
              "  <style>\n",
              "    .colab-df-container {\n",
              "      display:flex;\n",
              "      flex-wrap:wrap;\n",
              "      gap: 12px;\n",
              "    }\n",
              "\n",
              "    .colab-df-convert {\n",
              "      background-color: #E8F0FE;\n",
              "      border: none;\n",
              "      border-radius: 50%;\n",
              "      cursor: pointer;\n",
              "      display: none;\n",
              "      fill: #1967D2;\n",
              "      height: 32px;\n",
              "      padding: 0 0 0 0;\n",
              "      width: 32px;\n",
              "    }\n",
              "\n",
              "    .colab-df-convert:hover {\n",
              "      background-color: #E2EBFA;\n",
              "      box-shadow: 0px 1px 2px rgba(60, 64, 67, 0.3), 0px 1px 3px 1px rgba(60, 64, 67, 0.15);\n",
              "      fill: #174EA6;\n",
              "    }\n",
              "\n",
              "    [theme=dark] .colab-df-convert {\n",
              "      background-color: #3B4455;\n",
              "      fill: #D2E3FC;\n",
              "    }\n",
              "\n",
              "    [theme=dark] .colab-df-convert:hover {\n",
              "      background-color: #434B5C;\n",
              "      box-shadow: 0px 1px 3px 1px rgba(0, 0, 0, 0.15);\n",
              "      filter: drop-shadow(0px 1px 2px rgba(0, 0, 0, 0.3));\n",
              "      fill: #FFFFFF;\n",
              "    }\n",
              "  </style>\n",
              "\n",
              "      <script>\n",
              "        const buttonEl =\n",
              "          document.querySelector('#df-64e737f0-f4ca-444b-a44d-53cf5c8abb1e button.colab-df-convert');\n",
              "        buttonEl.style.display =\n",
              "          google.colab.kernel.accessAllowed ? 'block' : 'none';\n",
              "\n",
              "        async function convertToInteractive(key) {\n",
              "          const element = document.querySelector('#df-64e737f0-f4ca-444b-a44d-53cf5c8abb1e');\n",
              "          const dataTable =\n",
              "            await google.colab.kernel.invokeFunction('convertToInteractive',\n",
              "                                                     [key], {});\n",
              "          if (!dataTable) return;\n",
              "\n",
              "          const docLinkHtml = 'Like what you see? Visit the ' +\n",
              "            '<a target=\"_blank\" href=https://colab.research.google.com/notebooks/data_table.ipynb>data table notebook</a>'\n",
              "            + ' to learn more about interactive tables.';\n",
              "          element.innerHTML = '';\n",
              "          dataTable['output_type'] = 'display_data';\n",
              "          await google.colab.output.renderOutput(dataTable, element);\n",
              "          const docLink = document.createElement('div');\n",
              "          docLink.innerHTML = docLinkHtml;\n",
              "          element.appendChild(docLink);\n",
              "        }\n",
              "      </script>\n",
              "    </div>\n",
              "  </div>\n",
              "  "
            ]
          },
          "metadata": {},
          "execution_count": 58
        }
      ]
    },
    {
      "cell_type": "code",
      "source": [
        "data3 = data2.map({'earthquake':0,'explosion':1,'ice quake':2,'quarry blast':3})\n",
        "print(data3)"
      ],
      "metadata": {
        "id": "ENg8H46kFqxd",
        "colab": {
          "base_uri": "https://localhost:8080/"
        },
        "outputId": "e522f4eb-9b3d-452f-e373-bc65a7d4e8e0"
      },
      "execution_count": null,
      "outputs": [
        {
          "output_type": "stream",
          "name": "stdout",
          "text": [
            "0       0\n",
            "1       0\n",
            "2       0\n",
            "3       0\n",
            "4       0\n",
            "       ..\n",
            "8842    3\n",
            "8843    3\n",
            "8844    3\n",
            "8845    3\n",
            "8846    3\n",
            "Name: type, Length: 8847, dtype: int64\n"
          ]
        }
      ]
    },
    {
      "cell_type": "code",
      "source": [
        "#one class label.\n",
        "x = data1.drop(['typenum'], axis =1).values # drop class label\n",
        "y = data1['typenum'].values"
      ],
      "metadata": {
        "id": "GCLQqlkxvG3D"
      },
      "execution_count": null,
      "outputs": []
    },
    {
      "cell_type": "code",
      "source": [
        "#double class labels.\n",
        "\n",
        "# drop class label\n",
        "# x = data1.drop(['typenum','locationnum'], axis =1).values \n",
        "# y = data1.drop(['latitude', 'longitude', 'depth', 'mag','horizontalError','depthError','magError','magNst','statusnum','magSourcenum'], axis = 1).values"
      ],
      "metadata": {
        "id": "6UvACP8ufc4g"
      },
      "execution_count": null,
      "outputs": []
    },
    {
      "cell_type": "code",
      "source": [
        "x"
      ],
      "metadata": {
        "colab": {
          "base_uri": "https://localhost:8080/"
        },
        "id": "dAPRfybFv9zX",
        "outputId": "cd63c66e-de44-4171-f66d-263864d5d2bf"
      },
      "execution_count": null,
      "outputs": [
        {
          "output_type": "execute_result",
          "data": {
            "text/plain": [
              "array([[   7.0515    ,  126.5218    ,  184.24      , ...,   19.        ,\n",
              "           1.        ,   12.        ],\n",
              "       [  18.011     ,  -67.06566667,    4.81      , ...,    3.        ,\n",
              "           1.        ,    9.        ],\n",
              "       [  57.0831    , -135.6883    ,    1.7       , ...,   18.        ,\n",
              "           0.        ,    0.        ],\n",
              "       ...,\n",
              "       [  34.8506667 , -118.7826667 ,   -1.19      , ...,    7.        ,\n",
              "           1.        ,    2.        ],\n",
              "       [  46.0161667 , -112.4601667 ,   -2.        , ...,    7.        ,\n",
              "           1.        ,    4.        ],\n",
              "       [  34.9955    , -118.1818333 ,   -0.8       , ...,   13.        ,\n",
              "           1.        ,    2.        ]])"
            ]
          },
          "metadata": {},
          "execution_count": 62
        }
      ]
    },
    {
      "cell_type": "code",
      "source": [
        "y"
      ],
      "metadata": {
        "colab": {
          "base_uri": "https://localhost:8080/"
        },
        "id": "CqSDGj6nwAcB",
        "outputId": "3e2452d8-735d-4d9a-d35a-9f00a5c27127"
      },
      "execution_count": null,
      "outputs": [
        {
          "output_type": "execute_result",
          "data": {
            "text/plain": [
              "array([0, 0, 0, ..., 3, 3, 3])"
            ]
          },
          "metadata": {},
          "execution_count": 63
        }
      ]
    },
    {
      "cell_type": "code",
      "source": [
        "#START\n",
        "#regression\n",
        "\n",
        "# Two Class Label\n",
        "# x_train, x_test, y_train, y_test = train_test_split(x, y, test_size=0.3, random_state=42)"
      ],
      "metadata": {
        "id": "rq8IXPkbwA9-"
      },
      "execution_count": null,
      "outputs": []
    },
    {
      "cell_type": "code",
      "source": [
        "# One Class Label\n",
        "x_train, x_test, y_train, y_test = train_test_split(x, y, test_size=0.2, random_state=12)"
      ],
      "metadata": {
        "id": "dQqYVQ92fnOO"
      },
      "execution_count": null,
      "outputs": []
    },
    {
      "cell_type": "code",
      "source": [
        "#Train the model on the training set\n",
        "\n",
        "ml = LinearRegression()\n",
        "ml.fit(x_train, y_train)"
      ],
      "metadata": {
        "colab": {
          "base_uri": "https://localhost:8080/"
        },
        "id": "wYSntfVCxDtD",
        "outputId": "6f42243e-207b-47ed-98ef-0a0f91a0d026"
      },
      "execution_count": null,
      "outputs": [
        {
          "output_type": "execute_result",
          "data": {
            "text/plain": [
              "LinearRegression()"
            ]
          },
          "metadata": {},
          "execution_count": 66
        }
      ]
    },
    {
      "cell_type": "code",
      "source": [
        "# Predict the test results\n",
        "\n",
        "y_pred = ml.predict(x_test)\n",
        "y_pred"
      ],
      "metadata": {
        "colab": {
          "base_uri": "https://localhost:8080/"
        },
        "id": "RQLuXKYTNSwS",
        "outputId": "d793a696-e7ee-4840-d970-f7d87a4feee7"
      },
      "execution_count": null,
      "outputs": [
        {
          "output_type": "execute_result",
          "data": {
            "text/plain": [
              "array([-0.03006518, -0.09848876,  0.00775774, ...,  0.02709126,\n",
              "        0.06684629,  0.00038812])"
            ]
          },
          "metadata": {},
          "execution_count": 67
        }
      ]
    },
    {
      "cell_type": "code",
      "source": [
        "#Evaluate the Model\n",
        "\n",
        "r2_score(y_test, y_pred)"
      ],
      "metadata": {
        "colab": {
          "base_uri": "https://localhost:8080/"
        },
        "id": "tDUVDTK5NZn-",
        "outputId": "d6a8051a-f066-4d9d-ce4d-d947be9bf82f"
      },
      "execution_count": null,
      "outputs": [
        {
          "output_type": "execute_result",
          "data": {
            "text/plain": [
              "0.2736649130548676"
            ]
          },
          "metadata": {},
          "execution_count": 68
        }
      ]
    },
    {
      "cell_type": "code",
      "source": [
        "# Plot the results\n",
        "\n",
        "plt.figure(figsize = (3,3))\n",
        "plt.scatter(y_test, y_pred)\n",
        "plt.xlabel(\"Actual\")\n",
        "plt.ylabel(\"Predicted\")\n",
        "plt.title('Actual vs Predicted')"
      ],
      "metadata": {
        "colab": {
          "base_uri": "https://localhost:8080/",
          "height": 258
        },
        "id": "oNAkMWa-g7xM",
        "outputId": "363bc55c-b205-47fc-bce5-f3181b23d6d5"
      },
      "execution_count": null,
      "outputs": [
        {
          "output_type": "execute_result",
          "data": {
            "text/plain": [
              "Text(0.5, 1.0, 'Actual vs Predicted')"
            ]
          },
          "metadata": {},
          "execution_count": 69
        },
        {
          "output_type": "display_data",
          "data": {
            "text/plain": [
              "<Figure size 216x216 with 1 Axes>"
            ],
            "image/png": "[encoded data removed]"
          },
          "metadata": {
            "needs_background": "light"
          }
        }
      ]
    },
    {
      "cell_type": "code",
      "source": [
        "# Data frame for error rate\n",
        "\n",
        "pred_y_df = pd.DataFrame({'Actual Value ' : y_test,'Predicted Value ' : y_pred,'Difference': y_test - y_pred})\n",
        "pred_y_df\n",
        "\n",
        "#END"
      ],
      "metadata": {
        "colab": {
          "base_uri": "https://localhost:8080/",
          "height": 424
        },
        "id": "L4zSj_QghyPx",
        "outputId": "64b96bd1-f639-41da-e378-f8e11052d3fe"
      },
      "execution_count": null,
      "outputs": [
        {
          "output_type": "execute_result",
          "data": {
            "text/plain": [
              "      Actual Value   Predicted Value   Difference\n",
              "0                 0         -0.030065    0.030065\n",
              "1                 0         -0.098489    0.098489\n",
              "2                 0          0.007758   -0.007758\n",
              "3                 0          0.283608   -0.283608\n",
              "4                 0          0.055831   -0.055831\n",
              "...             ...               ...         ...\n",
              "1765              0         -0.092685    0.092685\n",
              "1766              0          0.207322   -0.207322\n",
              "1767              0          0.027091   -0.027091\n",
              "1768              0          0.066846   -0.066846\n",
              "1769              0          0.000388   -0.000388\n",
              "\n",
              "[1770 rows x 3 columns]"
            ],
            "text/html": [
              "\n",
              "  <div id=\"df-c4041872-b984-4654-8796-5836e04abafa\">\n",
              "    <div class=\"colab-df-container\">\n",
              "      <div>\n",
              "<style scoped>\n",
              "    .dataframe tbody tr th:only-of-type {\n",
              "        vertical-align: middle;\n",
              "    }\n",
              "\n",
              "    .dataframe tbody tr th {\n",
              "        vertical-align: top;\n",
              "    }\n",
              "\n",
              "    .dataframe thead th {\n",
              "        text-align: right;\n",
              "    }\n",
              "</style>\n",
              "<table border=\"1\" class=\"dataframe\">\n",
              "  <thead>\n",
              "    <tr style=\"text-align: right;\">\n",
              "      <th></th>\n",
              "      <th>Actual Value</th>\n",
              "      <th>Predicted Value</th>\n",
              "      <th>Difference</th>\n",
              "    </tr>\n",
              "  </thead>\n",
              "  <tbody>\n",
              "    <tr>\n",
              "      <th>0</th>\n",
              "      <td>0</td>\n",
              "      <td>-0.030065</td>\n",
              "      <td>0.030065</td>\n",
              "    </tr>\n",
              "    <tr>\n",
              "      <th>1</th>\n",
              "      <td>0</td>\n",
              "      <td>-0.098489</td>\n",
              "      <td>0.098489</td>\n",
              "    </tr>\n",
              "    <tr>\n",
              "      <th>2</th>\n",
              "      <td>0</td>\n",
              "      <td>0.007758</td>\n",
              "      <td>-0.007758</td>\n",
              "    </tr>\n",
              "    <tr>\n",
              "      <th>3</th>\n",
              "      <td>0</td>\n",
              "      <td>0.283608</td>\n",
              "      <td>-0.283608</td>\n",
              "    </tr>\n",
              "    <tr>\n",
              "      <th>4</th>\n",
              "      <td>0</td>\n",
              "      <td>0.055831</td>\n",
              "      <td>-0.055831</td>\n",
              "    </tr>\n",
              "    <tr>\n",
              "      <th>...</th>\n",
              "      <td>...</td>\n",
              "      <td>...</td>\n",
              "      <td>...</td>\n",
              "    </tr>\n",
              "    <tr>\n",
              "      <th>1765</th>\n",
              "      <td>0</td>\n",
              "      <td>-0.092685</td>\n",
              "      <td>0.092685</td>\n",
              "    </tr>\n",
              "    <tr>\n",
              "      <th>1766</th>\n",
              "      <td>0</td>\n",
              "      <td>0.207322</td>\n",
              "      <td>-0.207322</td>\n",
              "    </tr>\n",
              "    <tr>\n",
              "      <th>1767</th>\n",
              "      <td>0</td>\n",
              "      <td>0.027091</td>\n",
              "      <td>-0.027091</td>\n",
              "    </tr>\n",
              "    <tr>\n",
              "      <th>1768</th>\n",
              "      <td>0</td>\n",
              "      <td>0.066846</td>\n",
              "      <td>-0.066846</td>\n",
              "    </tr>\n",
              "    <tr>\n",
              "      <th>1769</th>\n",
              "      <td>0</td>\n",
              "      <td>0.000388</td>\n",
              "      <td>-0.000388</td>\n",
              "    </tr>\n",
              "  </tbody>\n",
              "</table>\n",
              "<p>1770 rows × 3 columns</p>\n",
              "</div>\n",
              "      <button class=\"colab-df-convert\" onclick=\"convertToInteractive('df-c4041872-b984-4654-8796-5836e04abafa')\"\n",
              "              title=\"Convert this dataframe to an interactive table.\"\n",
              "              style=\"display:none;\">\n",
              "        \n",
              "  <svg xmlns=\"http://www.w3.org/2000/svg\" height=\"24px\"viewBox=\"0 0 24 24\"\n",
              "       width=\"24px\">\n",
              "    <path d=\"M0 0h24v24H0V0z\" fill=\"none\"/>\n",
              "    <path d=\"M18.56 5.44l.94 2.06.94-2.06 2.06-.94-2.06-.94-.94-2.06-.94 2.06-2.06.94zm-11 1L8.5 8.5l.94-2.06 2.06-.94-2.06-.94L8.5 2.5l-.94 2.06-2.06.94zm10 10l.94 2.06.94-2.06 2.06-.94-2.06-.94-.94-2.06-.94 2.06-2.06.94z\"/><path d=\"M17.41 7.96l-1.37-1.37c-.4-.4-.92-.59-1.43-.59-.52 0-1.04.2-1.43.59L10.3 9.45l-7.72 7.72c-.78.78-.78 2.05 0 2.83L4 21.41c.39.39.9.59 1.41.59.51 0 1.02-.2 1.41-.59l7.78-7.78 2.81-2.81c.8-.78.8-2.07 0-2.86zM5.41 20L4 18.59l7.72-7.72 1.47 1.35L5.41 20z\"/>\n",
              "  </svg>\n",
              "      </button>\n",
              "      \n",
              "  <style>\n",
              "    .colab-df-container {\n",
              "      display:flex;\n",
              "      flex-wrap:wrap;\n",
              "      gap: 12px;\n",
              "    }\n",
              "\n",
              "    .colab-df-convert {\n",
              "      background-color: #E8F0FE;\n",
              "      border: none;\n",
              "      border-radius: 50%;\n",
              "      cursor: pointer;\n",
              "      display: none;\n",
              "      fill: #1967D2;\n",
              "      height: 32px;\n",
              "      padding: 0 0 0 0;\n",
              "      width: 32px;\n",
              "    }\n",
              "\n",
              "    .colab-df-convert:hover {\n",
              "      background-color: #E2EBFA;\n",
              "      box-shadow: 0px 1px 2px rgba(60, 64, 67, 0.3), 0px 1px 3px 1px rgba(60, 64, 67, 0.15);\n",
              "      fill: #174EA6;\n",
              "    }\n",
              "\n",
              "    [theme=dark] .colab-df-convert {\n",
              "      background-color: #3B4455;\n",
              "      fill: #D2E3FC;\n",
              "    }\n",
              "\n",
              "    [theme=dark] .colab-df-convert:hover {\n",
              "      background-color: #434B5C;\n",
              "      box-shadow: 0px 1px 3px 1px rgba(0, 0, 0, 0.15);\n",
              "      filter: drop-shadow(0px 1px 2px rgba(0, 0, 0, 0.3));\n",
              "      fill: #FFFFFF;\n",
              "    }\n",
              "  </style>\n",
              "\n",
              "      <script>\n",
              "        const buttonEl =\n",
              "          document.querySelector('#df-c4041872-b984-4654-8796-5836e04abafa button.colab-df-convert');\n",
              "        buttonEl.style.display =\n",
              "          google.colab.kernel.accessAllowed ? 'block' : 'none';\n",
              "\n",
              "        async function convertToInteractive(key) {\n",
              "          const element = document.querySelector('#df-c4041872-b984-4654-8796-5836e04abafa');\n",
              "          const dataTable =\n",
              "            await google.colab.kernel.invokeFunction('convertToInteractive',\n",
              "                                                     [key], {});\n",
              "          if (!dataTable) return;\n",
              "\n",
              "          const docLinkHtml = 'Like what you see? Visit the ' +\n",
              "            '<a target=\"_blank\" href=https://colab.research.google.com/notebooks/data_table.ipynb>data table notebook</a>'\n",
              "            + ' to learn more about interactive tables.';\n",
              "          element.innerHTML = '';\n",
              "          dataTable['output_type'] = 'display_data';\n",
              "          await google.colab.output.renderOutput(dataTable, element);\n",
              "          const docLink = document.createElement('div');\n",
              "          docLink.innerHTML = docLinkHtml;\n",
              "          element.appendChild(docLink);\n",
              "        }\n",
              "      </script>\n",
              "    </div>\n",
              "  </div>\n",
              "  "
            ]
          },
          "metadata": {},
          "execution_count": 70
        }
      ]
    },
    {
      "cell_type": "code",
      "source": [
        "#Decision Tree\n",
        "#START\n",
        "\n",
        "X_train, X_test, y_train, y_test = train_test_split(x, y, test_size=0.2, random_state=1)"
      ],
      "metadata": {
        "id": "WQ3kMX4SkcvK"
      },
      "execution_count": null,
      "outputs": []
    },
    {
      "cell_type": "code",
      "source": [
        "# Instantiate a DecisionTreeClassifier 'dt' with a maximum depth of 6\n",
        "dt = DecisionTreeClassifier(max_depth=6, random_state=1)\n",
        "\n",
        "# Fit dt to the training set\n",
        "dt.fit(X_train, y_train)\n",
        "\n",
        "# Predict test set labels\n",
        "y_pred = dt.predict(X_test)\n",
        "print(y_pred[0:5])"
      ],
      "metadata": {
        "colab": {
          "base_uri": "https://localhost:8080/"
        },
        "id": "zLkKg-a2koLT",
        "outputId": "5319ffc9-3851-4cfe-d1aa-01224311b887"
      },
      "execution_count": null,
      "outputs": [
        {
          "output_type": "stream",
          "name": "stdout",
          "text": [
            "[3 0 0 0 0]\n"
          ]
        }
      ]
    },
    {
      "cell_type": "code",
      "source": [
        "from sklearn.metrics import accuracy_score\n",
        "\n",
        "# Predict test set labels\n",
        "y_pred = dt.predict(X_test)\n",
        "\n",
        "# Compute test set accuracy\n",
        "acc = accuracy_score(y_test, y_pred)\n",
        "print(\"Test set accuracy: {:.2f}\".format(acc))"
      ],
      "metadata": {
        "colab": {
          "base_uri": "https://localhost:8080/"
        },
        "id": "AiOV9SB6kzCo",
        "outputId": "87d8c79c-bac2-4437-8703-8a14a6ca3396"
      },
      "execution_count": null,
      "outputs": [
        {
          "output_type": "stream",
          "name": "stdout",
          "text": [
            "Test set accuracy: 0.99\n"
          ]
        }
      ]
    },
    {
      "cell_type": "code",
      "source": [
        "from sklearn.tree import DecisionTreeClassifier\n",
        "\n",
        "# Instantiate dt_entropy, set 'entropy' as the information criterion\n",
        "dt_entropy = DecisionTreeClassifier(max_depth=8, criterion='entropy', random_state=1)\n",
        "\n",
        "# Fit dt_entropy to the training set\n",
        "dt_entropy.fit(X_train, y_train)"
      ],
      "metadata": {
        "colab": {
          "base_uri": "https://localhost:8080/"
        },
        "id": "Z5tWc2vUk8p8",
        "outputId": "b26c4160-b950-4691-ef4d-59fcfc6535bf"
      },
      "execution_count": null,
      "outputs": [
        {
          "output_type": "execute_result",
          "data": {
            "text/plain": [
              "DecisionTreeClassifier(criterion='entropy', max_depth=8, random_state=1)"
            ]
          },
          "metadata": {},
          "execution_count": 74
        }
      ]
    },
    {
      "cell_type": "code",
      "source": [
        "\n",
        "feature_names = data1, \n",
        "class_names=(data2)\n",
        "fig , axes = plt.subplots(nrows = 1,ncols = 1,figsize = (4,4), dpi=300) \n",
        "tree.plot_tree(dt_entropy, filled = True);\n",
        "fig.savefig('imagename.png')\n"
      ],
      "metadata": {
        "colab": {
          "base_uri": "https://localhost:8080/",
          "height": 983
        },
        "id": "kxXfrGLE09h-",
        "outputId": "504c5219-a650-422b-a0ad-01aec2edd068"
      },
      "execution_count": null,
      "outputs": [
        {
          "output_type": "display_data",
          "data": {
            "text/plain": [
              "<Figure size 1200x1200 with 1 Axes>"
            ],
            "image/png": "[encoded data removed]"
          },
          "metadata": {
            "needs_background": "light"
          }
        }
      ]
    },
    {
      "cell_type": "code",
      "source": [
        "tree.plot_tree(dt_entropy);\n"
      ],
      "metadata": {
        "colab": {
          "base_uri": "https://localhost:8080/",
          "height": 248
        },
        "id": "9CO9Cr5U1V_Z",
        "outputId": "af8659b4-9532-47f4-d45a-1bfe6a2dbb26"
      },
      "execution_count": null,
      "outputs": [
        {
          "output_type": "display_data",
          "data": {
            "text/plain": [
              "<Figure size 432x288 with 1 Axes>"
            ],
            "image/png": "[encoded data removed]"
          },
          "metadata": {
            "needs_background": "light"
          }
        }
      ]
    },
    {
      "cell_type": "code",
      "source": [
        "from sklearn.neighbors import KNeighborsClassifier"
      ],
      "metadata": {
        "id": "F6ZJ0nV_1Akd"
      },
      "execution_count": null,
      "outputs": []
    },
    {
      "cell_type": "code",
      "source": [
        "X_train, X_test, y_train, y_test = train_test_split(x,y,test_size=0.2, random_state = 12)\n",
        "knn_clf=KNeighborsClassifier(n_neighbors=5)\n",
        "knn_clf.fit(X_train,y_train)\n",
        "ypred=knn_clf.predict(X_test) #These are the predicted output values"
      ],
      "metadata": {
        "id": "e4MQ-_7B0BvG"
      },
      "execution_count": null,
      "outputs": []
    },
    {
      "cell_type": "code",
      "source": [
        "#states\n",
        "print(ypred)"
      ],
      "metadata": {
        "colab": {
          "base_uri": "https://localhost:8080/"
        },
        "id": "OkRa41862ND1",
        "outputId": "311e98e6-8749-489d-dabb-40f486a599ee"
      },
      "execution_count": null,
      "outputs": [
        {
          "output_type": "stream",
          "name": "stdout",
          "text": [
            "[0 0 0 ... 0 0 0]\n"
          ]
        }
      ]
    },
    {
      "cell_type": "code",
      "source": [
        "#k=5\n",
        "from sklearn.metrics import classification_report, confusion_matrix, accuracy_score\n",
        "result = confusion_matrix(y_test, ypred)\n",
        "print('Confusion Matrix:')\n",
        "print(result)\n",
        "result1 = classification_report(y_test, ypred)\n",
        "print('Classification Report:',)\n",
        "print (result1)\n",
        "result2 = accuracy_score(y_test,ypred)\n",
        "print('Accuracy:',result2)"
      ],
      "metadata": {
        "colab": {
          "base_uri": "https://localhost:8080/"
        },
        "id": "_dzJERN-1LiS",
        "outputId": "b13a48de-8100-4ee5-f7b6-0892db832a28"
      },
      "execution_count": null,
      "outputs": [
        {
          "output_type": "stream",
          "name": "stdout",
          "text": [
            "Confusion Matrix:\n",
            "[[1717    4    0    6]\n",
            " [   2   14    0    2]\n",
            " [   4    0    0    0]\n",
            " [   7    2    0   12]]\n",
            "Classification Report:\n",
            "              precision    recall  f1-score   support\n",
            "\n",
            "           0       0.99      0.99      0.99      1727\n",
            "           1       0.70      0.78      0.74        18\n",
            "           2       0.00      0.00      0.00         4\n",
            "           3       0.60      0.57      0.59        21\n",
            "\n",
            "    accuracy                           0.98      1770\n",
            "   macro avg       0.57      0.59      0.58      1770\n",
            "weighted avg       0.98      0.98      0.98      1770\n",
            "\n",
            "Accuracy: 0.9847457627118644\n"
          ]
        },
        {
          "output_type": "stream",
          "name": "stderr",
          "text": [
            "/usr/local/lib/python3.7/dist-packages/sklearn/metrics/_classification.py:1318: UndefinedMetricWarning: Precision and F-score are ill-defined and being set to 0.0 in labels with no predicted samples. Use `zero_division` parameter to control this behavior.\n",
            "  _warn_prf(average, modifier, msg_start, len(result))\n",
            "/usr/local/lib/python3.7/dist-packages/sklearn/metrics/_classification.py:1318: UndefinedMetricWarning: Precision and F-score are ill-defined and being set to 0.0 in labels with no predicted samples. Use `zero_division` parameter to control this behavior.\n",
            "  _warn_prf(average, modifier, msg_start, len(result))\n",
            "/usr/local/lib/python3.7/dist-packages/sklearn/metrics/_classification.py:1318: UndefinedMetricWarning: Precision and F-score are ill-defined and being set to 0.0 in labels with no predicted samples. Use `zero_division` parameter to control this behavior.\n",
            "  _warn_prf(average, modifier, msg_start, len(result))\n"
          ]
        }
      ]
    },
    {
      "cell_type": "code",
      "source": [
        "X_train, X_test, y_train, y_test = train_test_split(x,y,test_size=0.2, random_state = 12)\n",
        "knn_clf=KNeighborsClassifier(n_neighbors=3)\n",
        "knn_clf.fit(X_train,y_train)\n",
        "ypred=knn_clf.predict(X_test) #These are the predicted output values"
      ],
      "metadata": {
        "id": "ETxtAV7adozD"
      },
      "execution_count": null,
      "outputs": []
    },
    {
      "cell_type": "code",
      "source": [
        "print(ypred)"
      ],
      "metadata": {
        "colab": {
          "base_uri": "https://localhost:8080/"
        },
        "id": "Rn3mZdOjdsZ-",
        "outputId": "c08baa13-1380-448a-a82a-638a47c1de08"
      },
      "execution_count": null,
      "outputs": [
        {
          "output_type": "stream",
          "name": "stdout",
          "text": [
            "[0 0 0 ... 0 0 0]\n"
          ]
        }
      ]
    },
    {
      "cell_type": "code",
      "source": [
        "#k=3\n",
        "from sklearn.metrics import classification_report, confusion_matrix, accuracy_score\n",
        "result = confusion_matrix(y_test, ypred)\n",
        "print('Confusion Matrix:')\n",
        "print(result)\n",
        "result1 = classification_report(y_test, ypred)\n",
        "print('Classification Report:',)\n",
        "print(type(result1[0]))\n",
        "print (result1)\n",
        "result2 = accuracy_score(y_test,ypred)\n",
        "print('Accuracy:',result2)"
      ],
      "metadata": {
        "colab": {
          "base_uri": "https://localhost:8080/"
        },
        "id": "22aqyTx6duzB",
        "outputId": "f14bd24b-d968-430e-8f1b-f0b44b5ab1c1"
      },
      "execution_count": null,
      "outputs": [
        {
          "output_type": "stream",
          "name": "stdout",
          "text": [
            "Confusion Matrix:\n",
            "[[1715    4    0    8]\n",
            " [   4   12    0    2]\n",
            " [   4    0    0    0]\n",
            " [   5    2    0   14]]\n",
            "Classification Report:\n",
            "<class 'str'>\n",
            "              precision    recall  f1-score   support\n",
            "\n",
            "           0       0.99      0.99      0.99      1727\n",
            "           1       0.67      0.67      0.67        18\n",
            "           2       0.00      0.00      0.00         4\n",
            "           3       0.58      0.67      0.62        21\n",
            "\n",
            "    accuracy                           0.98      1770\n",
            "   macro avg       0.56      0.58      0.57      1770\n",
            "weighted avg       0.98      0.98      0.98      1770\n",
            "\n",
            "Accuracy: 0.9836158192090395\n"
          ]
        },
        {
          "output_type": "stream",
          "name": "stderr",
          "text": [
            "/usr/local/lib/python3.7/dist-packages/sklearn/metrics/_classification.py:1318: UndefinedMetricWarning: Precision and F-score are ill-defined and being set to 0.0 in labels with no predicted samples. Use `zero_division` parameter to control this behavior.\n",
            "  _warn_prf(average, modifier, msg_start, len(result))\n",
            "/usr/local/lib/python3.7/dist-packages/sklearn/metrics/_classification.py:1318: UndefinedMetricWarning: Precision and F-score are ill-defined and being set to 0.0 in labels with no predicted samples. Use `zero_division` parameter to control this behavior.\n",
            "  _warn_prf(average, modifier, msg_start, len(result))\n",
            "/usr/local/lib/python3.7/dist-packages/sklearn/metrics/_classification.py:1318: UndefinedMetricWarning: Precision and F-score are ill-defined and being set to 0.0 in labels with no predicted samples. Use `zero_division` parameter to control this behavior.\n",
            "  _warn_prf(average, modifier, msg_start, len(result))\n"
          ]
        }
      ]
    },
    {
      "cell_type": "code",
      "source": [
        "!apt-get install graphviz\n",
        "!pip install dtreeviz"
      ],
      "metadata": {
        "colab": {
          "base_uri": "https://localhost:8080/"
        },
        "id": "fSDprRg_gg0Y",
        "outputId": "6a3e3ca7-c681-4e6f-ad01-3a96e8625e7b"
      },
      "execution_count": null,
      "outputs": [
        {
          "output_type": "stream",
          "name": "stdout",
          "text": [
            "Reading package lists... Done\n",
            "Building dependency tree       \n",
            "Reading state information... Done\n",
            "graphviz is already the newest version (2.40.1-2).\n",
            "The following package was automatically installed and is no longer required:\n",
            "  libnvidia-common-460\n",
            "Use 'apt autoremove' to remove it.\n",
            "0 upgraded, 0 newly installed, 0 to remove and 45 not upgraded.\n",
            "Looking in indexes: https://pypi.org/simple, https://us-python.pkg.dev/colab-wheels/public/simple/\n",
            "Requirement already satisfied: dtreeviz in /usr/local/lib/python3.7/dist-packages (1.3.6)\n",
            "Requirement already satisfied: scikit-learn in /usr/local/lib/python3.7/dist-packages (from dtreeviz) (1.0.2)\n",
            "Requirement already satisfied: colour in /usr/local/lib/python3.7/dist-packages (from dtreeviz) (0.1.5)\n",
            "Requirement already satisfied: matplotlib in /usr/local/lib/python3.7/dist-packages (from dtreeviz) (3.2.2)\n",
            "Requirement already satisfied: pandas in /usr/local/lib/python3.7/dist-packages (from dtreeviz) (1.3.5)\n",
            "Requirement already satisfied: pytest in /usr/local/lib/python3.7/dist-packages (from dtreeviz) (3.6.4)\n",
            "Requirement already satisfied: graphviz>=0.9 in /usr/local/lib/python3.7/dist-packages (from dtreeviz) (0.10.1)\n",
            "Requirement already satisfied: numpy in /usr/local/lib/python3.7/dist-packages (from dtreeviz) (1.21.6)\n",
            "Requirement already satisfied: python-dateutil>=2.1 in /usr/local/lib/python3.7/dist-packages (from matplotlib->dtreeviz) (2.8.2)\n",
            "Requirement already satisfied: kiwisolver>=1.0.1 in /usr/local/lib/python3.7/dist-packages (from matplotlib->dtreeviz) (1.4.2)\n",
            "Requirement already satisfied: cycler>=0.10 in /usr/local/lib/python3.7/dist-packages (from matplotlib->dtreeviz) (0.11.0)\n",
            "Requirement already satisfied: pyparsing!=2.0.4,!=2.1.2,!=2.1.6,>=2.0.1 in /usr/local/lib/python3.7/dist-packages (from matplotlib->dtreeviz) (3.0.9)\n",
            "Requirement already satisfied: typing-extensions in /usr/local/lib/python3.7/dist-packages (from kiwisolver>=1.0.1->matplotlib->dtreeviz) (4.2.0)\n",
            "Requirement already satisfied: six>=1.5 in /usr/local/lib/python3.7/dist-packages (from python-dateutil>=2.1->matplotlib->dtreeviz) (1.15.0)\n",
            "Requirement already satisfied: pytz>=2017.3 in /usr/local/lib/python3.7/dist-packages (from pandas->dtreeviz) (2022.1)\n",
            "Requirement already satisfied: attrs>=17.4.0 in /usr/local/lib/python3.7/dist-packages (from pytest->dtreeviz) (21.4.0)\n",
            "Requirement already satisfied: atomicwrites>=1.0 in /usr/local/lib/python3.7/dist-packages (from pytest->dtreeviz) (1.4.0)\n",
            "Requirement already satisfied: py>=1.5.0 in /usr/local/lib/python3.7/dist-packages (from pytest->dtreeviz) (1.11.0)\n",
            "Requirement already satisfied: pluggy<0.8,>=0.5 in /usr/local/lib/python3.7/dist-packages (from pytest->dtreeviz) (0.7.1)\n",
            "Requirement already satisfied: setuptools in /usr/local/lib/python3.7/dist-packages (from pytest->dtreeviz) (57.4.0)\n",
            "Requirement already satisfied: more-itertools>=4.0.0 in /usr/local/lib/python3.7/dist-packages (from pytest->dtreeviz) (8.13.0)\n",
            "Requirement already satisfied: scipy>=1.1.0 in /usr/local/lib/python3.7/dist-packages (from scikit-learn->dtreeviz) (1.4.1)\n",
            "Requirement already satisfied: joblib>=0.11 in /usr/local/lib/python3.7/dist-packages (from scikit-learn->dtreeviz) (1.1.0)\n",
            "Requirement already satisfied: threadpoolctl>=2.0.0 in /usr/local/lib/python3.7/dist-packages (from scikit-learn->dtreeviz) (3.1.0)\n"
          ]
        }
      ]
    },
    {
      "cell_type": "code",
      "source": [
        "#from sklearn.datasets import *\n",
        "#from sklearn import tree\n",
        "#from dtreeviz.trees import *"
      ],
      "metadata": {
        "id": "ICA89LKSg7iD"
      },
      "execution_count": null,
      "outputs": []
    },
    {
      "cell_type": "code",
      "source": [
        "#classifier = tree.DecisionTreeClassifier(max_depth=4)\n",
        "#earthquake = load_earthquake()\n",
        "#classifier.fit(earthquake.data, earthquake.target)\n",
        "#viz = dtreeviz(classifier,\n",
        " #             x.data1.drop(['typenum'].values,\n",
        " #             y.data1.values,\n",
        "  #            target_name='typenum',\n",
        "   #           feature_names=data1.feature_names, \n",
        "    #          class_names=(data2),\n",
        "     #         fancy=False )  )\n",
        "#viz.view()"
      ],
      "metadata": {
        "id": "0U8mKEvhhTMN"
      },
      "execution_count": null,
      "outputs": []
    },
    {
      "cell_type": "code",
      "source": [
        "#from IPython.core.display import display, HTML\n",
        "#display(HTML(dt_entropy.svg()))"
      ],
      "metadata": {
        "id": "-7C2DuvDgpUX"
      },
      "execution_count": null,
      "outputs": []
    },
    {
      "cell_type": "code",
      "source": [
        "#new way to visualize tree\n",
        "#from dtreeviz.trees import dtreeviz\n",
        "\n",
        "#viz = dtreeviz(dt_entropy, x, y,\n",
        "#               target_name=\"target\",\n",
        "#               feature_names=data1,\n",
        "#              class_names=data2)\n",
        "\n",
        "#viz\n",
        "#viz.save(\"decision_tree.svg\")"
      ],
      "metadata": {
        "id": "GSz_pVsBkXxs"
      },
      "execution_count": null,
      "outputs": []
    },
    {
      "cell_type": "code",
      "source": [
        "#predicting\n",
        "classifier = KNeighborsClassifier(n_neighbors=3)\n",
        "classifier.fit(x, y)\n",
        "#enter in the format as 'latitude(B)', 'longitude(C)', 'depth(D)', 'mag(E)','nst(G)','gap(H)','dmin(I)','rms(J)','horizontalError(Q)','depthError(R)','magError(S)','magNst(T)','statusnum(U)','locationnum(W)'\n",
        "#testSet = [[18.011,-67.06566667,4.81,2.05,4,137,0.02308,0.07,1.57,1.75,0.041712809,3,1,9]]  #earthquake\n",
        "testSet=[[34.9955,\t-118.1818333,\t-0.8,\t1.65,29,\t47,\t0.1226,\t0.21,\t0.33,\t31.61,\t0.111,\t13,\t1,2]]\n",
        "test = pd.DataFrame(testSet)\n",
        "y_pred = classifier.predict(testSet)\n",
        "\n",
        "if y_pred == 0 :\n",
        "  print(\"Earth Quake\")\n",
        "elif y_pred==1:\n",
        "  print(\"Explosion\")\n",
        "elif y_pred==2:\n",
        "  print(\"Ice Quake\")\n",
        "else:\n",
        "  print(\"Quarry Blast\")"
      ],
      "metadata": {
        "colab": {
          "base_uri": "https://localhost:8080/"
        },
        "id": "Ty0WQGRmnMfa",
        "outputId": "e13b0d65-8d32-4546-d557-1163ae6d95e9"
      },
      "execution_count": null,
      "outputs": [
        {
          "output_type": "stream",
          "name": "stdout",
          "text": [
            "Quarry Blast\n"
          ]
        }
      ]
    },
    {
      "cell_type": "code",
      "source": [
        "#enter in the format as 'latitude(B)', 'longitude(C)', 'depth(D)', 'mag(E)','nst(G)','gap(H)','dmin(I)','rms(J)','horizontalError(Q)','depthError(R)','magError(S)','magNst(T)','statusnum(U)','locationnum(W)'\n",
        "#testSet = [[67.33,-113.06566667,5.8,1.8,121,2.7,3.0,0.08786,3,1,9]] \n",
        "#testSet=[[42.93,-120.3773,-1.2,1.9,0.8,31,0.1,5,1,14]] #explosion\n",
        "#testSet=[[34.9955,-118.1818333,-0.8,1.65,0.33,31.61,0.111,13,1,2]]   #quarry blast"
      ],
      "metadata": {
        "id": "TPIz2ebCO1t0"
      },
      "execution_count": null,
      "outputs": []
    }
  ]
}